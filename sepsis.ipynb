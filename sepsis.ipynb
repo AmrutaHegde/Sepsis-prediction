{
 "cells": [
  {
   "cell_type": "code",
   "execution_count": null,
   "metadata": {
    "colab": {},
    "colab_type": "code",
    "id": "Nz7I6x_x54kl"
   },
   "outputs": [],
   "source": [
    "import pandas as pd\n",
    "import numpy as np\n",
    "import glob\n",
    "import os\n",
    "import scipy.stats as ss\n",
    "import seaborn as sns\n",
    "import matplotlib.pyplot as plt\n",
    "%matplotlib inline\n",
    "\n",
    "from sklearn.tree import DecisionTreeClassifier\n",
    "from sklearn.model_selection import GroupKFold, StratifiedKFold, train_test_split\n",
    "from sklearn.metrics import precision_score, recall_score, accuracy_score"
   ]
  },
  {
   "cell_type": "code",
   "execution_count": null,
   "metadata": {
    "colab": {
     "base_uri": "https://localhost:8080/",
     "height": 642
    },
    "colab_type": "code",
    "id": "cFoPUoxI7MxF",
    "outputId": "17b3f95b-4fa8-45d0-da25-25d7dbd007e1"
   },
   "outputs": [],
   "source": [
    "! pip install fancyimpute"
   ]
  },
  {
   "cell_type": "code",
   "execution_count": null,
   "metadata": {
    "colab": {
     "base_uri": "https://localhost:8080/",
     "height": 136
    },
    "colab_type": "code",
    "id": "0neA7zJD7mrr",
    "outputId": "9a4f6cfa-b4cc-4fd9-9192-abc5f55eb4a2"
   },
   "outputs": [],
   "source": [
    "from fancyimpute import KNN, NuclearNormMinimization, SoftImpute, BiScaler, IterativeImputer"
   ]
  },
  {
   "cell_type": "code",
   "execution_count": null,
   "metadata": {
    "colab": {
     "base_uri": "https://localhost:8080/",
     "height": 124
    },
    "colab_type": "code",
    "id": "azK3FHXH70py",
    "outputId": "7928d3b5-569a-4fdd-89ad-ca633cbd9441"
   },
   "outputs": [],
   "source": [
    "from google.colab import drive\n",
    "drive.mount('/content/drive') "
   ]
  },
  {
   "cell_type": "code",
   "execution_count": null,
   "metadata": {
    "colab": {
     "base_uri": "https://localhost:8080/",
     "height": 904
    },
    "colab_type": "code",
    "id": "cg7onHd5kcX2",
    "outputId": "09315513-4f49-4658-a68f-527500f0b4e0"
   },
   "outputs": [],
   "source": [
    "# Read data and impute missing values\n",
    "#os.chdir('/content/drive/My Drive/Colab Notebooks/PhysioNet_Sepsis_Challenge')\n",
    "os.chdir('/content/drive/My Drive/Colab Notebooks/PhysionetSepsisChallenge')\n",
    "df = pd.DataFrame()\n",
    "for file in glob.iglob('Data/Data_partial/*.psv'):\n",
    "    f_name = float(os.path.splitext(os.path.basename(file))[0][1:])  \n",
    "    # print(f_name)  \n",
    "    tempdf = pd.read_csv(file, sep = '|', index_col = None, header = 0)    \n",
    "    tempdf['Hour'] = tempdf.index\n",
    "    tempdf['Identifier'] = f_name\n",
    "    df = pd.concat([df, tempdf], axis=0)\n",
    "\n",
    "# Names of all columns in the data that contain physiological data\n",
    "physiological_cols = ['HR', 'O2Sat', 'Temp', 'SBP', 'MAP', 'DBP', 'Resp', 'EtCO2',\n",
    "       'BaseExcess', 'HCO3', 'FiO2', 'pH', 'PaCO2', 'SaO2', 'AST', 'BUN',\n",
    "       'Alkalinephos', 'Calcium', 'Chloride', 'Creatinine', 'Bilirubin_direct',\n",
    "       'Glucose', 'Lactate', 'Magnesium', 'Phosphate', 'Potassium',\n",
    "       'Bilirubin_total', 'TroponinI', 'Hct', 'Hgb', 'PTT', 'WBC',\n",
    "       'Fibrinogen', 'Platelets']\n",
    "\n",
    "# Names of all columns in the data that contain demographic data\n",
    "demographic_cols = ['Age', 'Gender', 'Unit1', 'Unit2', 'HospAdmTime', 'ICULOS']\n",
    "\n",
    "# Columns of features\n",
    "feature_cols = physiological_cols + ['Hour'] + demographic_cols + ['Identifier']\n",
    "\n",
    "# The name of the column that contains the value we are trying to predict\n",
    "label_col = 'SepsisLabel'\n",
    "\n",
    "#cols = list(df)\n",
    "cols = feature_cols + [label_col]\n",
    "# Move the SepsisLabel column to end of dataframe\n",
    "#cols.insert(len(cols), cols.pop(cols.index('SepsisLabel')))\n",
    "df = df.loc[:, cols]\n",
    "\n",
    "# Plot percentage of missing values (NaNs) for each feature\n",
    "cutoff = 60\n",
    "fig = plt.figure(figsize=(20,10))\n",
    "percent_missing = (df.isna().sum()/df.shape[0])*100\n",
    "percent_missing.plot(kind=\"bar\")\n",
    "plt.plot(percent_missing, np.array([cutoff for i in range(len(percent_missing))]), 'r--') \n",
    "fig.suptitle('Percentage Missing Values', fontsize=20)\n",
    "plt.xlabel('Feature', fontsize=16)\n",
    "plt.ylabel('% Missing Values', fontsize=16)\n",
    "\n",
    "# Retain columns in dataframe with <= cutoff% missing values \n",
    "df = df.loc[:, df.columns[percent_missing <= cutoff]]\n",
    "print('Retained features:')\n",
    "print(df.columns.values)\n",
    "\n",
    "feature_cols = df.columns.values[:-1]\n",
    "# Adjust physiological and demographic column names\n",
    "physiological_cols = [x for x in feature_cols if x in set(physiological_cols)]\n",
    "demographic_cols = [x for x in feature_cols if x in set(demographic_cols)]\n",
    "\n",
    "# Impute missing data using fancyimpute package \n",
    "df_filled = pd.DataFrame(data = IterativeImputer().fit_transform(df.to_numpy()),\n",
    "                         columns = df.columns,\n",
    "                         index = df.index)\n",
    "pd.set_option('display.expand_frame_repr', False)\n",
    "print(df_filled.head(5))"
   ]
  },
  {
   "cell_type": "code",
   "execution_count": null,
   "metadata": {
    "colab": {
     "base_uri": "https://localhost:8080/",
     "height": 444
    },
    "colab_type": "code",
    "id": "vhSrkrn97XHF",
    "outputId": "8d43b323-b583-48e7-bf72-da6e4c6ba0f4"
   },
   "outputs": [],
   "source": [
    "# Names of all columns in the data that contain demographic data\n",
    "demographic_cols = ['Age','Gender' ,'HospAdmTime', 'ICULOS', 'Identifier']\n",
    "physiological_cols = ['HR' ,'O2Sat' ,'SBP', 'MAP', 'DBP' ,'Resp']\n",
    "# The combination of physiological and demographic data is what we will use as features in our model\n",
    "feature_cols = physiological_cols + demographic_cols\n",
    "\n",
    "# The name of the column that contains the value we are trying to predict\n",
    "label_col = \"SepsisLabel\"\n",
    "\n",
    "def flatten(in_df, hours=4):\n",
    "    res = []\n",
    "\n",
    "    new_cols = []\n",
    "    for i in range(hours):\n",
    "        new_cols.append([c + \"_\" + str(i) for c in feature_cols])\n",
    "\n",
    "    #print(new_cols) #list that has names of new columns\n",
    "\n",
    "    df = in_df.sort_values(\"Hour\")\n",
    "   # print(df.iloc[-500:,:])\n",
    "    for patient, _df in df.groupby(\"Identifier\"):\n",
    "        n = int(len(_df) / hours) #_df has the number of rows in each unique group of \"Identifier\"\n",
    "\n",
    "        for i in range(n):\n",
    "            window = _df.iloc[i*hours:(i+1)*hours]\n",
    "            window_dict = {}\n",
    "\n",
    "            for j in range(hours):\n",
    "                for c in physiological_cols:\n",
    "                    window_dict[c + \"_\" + str(j)] = window[c].iloc[j]\n",
    "\n",
    "            for c in demographic_cols:\n",
    "                window_dict[c] = window[c].iloc[0]\n",
    "\n",
    "            window_dict[label_col] = window[label_col].mean()\n",
    "            window_dict[\"patient\"] = patient\n",
    "\n",
    "            res.append(window_dict)\n",
    "\n",
    "    res = pd.DataFrame(res)\n",
    "\n",
    "    res = res[res[label_col] <= 1 / hours]\n",
    "    res[label_col] = res[label_col].apply(lambda x: 1 if x else 0)\n",
    "\n",
    "    return res\n",
    "  \n",
    "df_filled_flatten = flatten(df_filled)\n",
    "df_filled_flatten[74:136] #printing the information of just patient 9 \n",
    "\n"
   ]
  },
  {
   "cell_type": "code",
   "execution_count": null,
   "metadata": {
    "colab": {
     "base_uri": "https://localhost:8080/",
     "height": 156
    },
    "colab_type": "code",
    "id": "vEE0_9HDsN_K",
    "outputId": "654eac69-c9fa-4a5a-9f11-0c05b20b6891"
   },
   "outputs": [],
   "source": [
    "# Features and output labels\n",
    "X = df_filled_flatten.drop(['Identifier', 'SepsisLabel', 'patient'], axis=1).values\n",
    "y = df_filled_flatten['SepsisLabel'].values\n",
    "#print(X.shape)\n",
    "print(y.shape)\n",
    "#X\n",
    "y"
   ]
  },
  {
   "cell_type": "code",
   "execution_count": null,
   "metadata": {
    "colab": {},
    "colab_type": "code",
    "id": "6XGyX8o7jiwS"
   },
   "outputs": [],
   "source": [
    "# Group k-fold cross-validation to ensure a \n",
    "# specific patient's data is either in the\n",
    "# training or test set\n",
    "\n",
    "group = df_filled_flatten['Identifier'].to_numpy()\n",
    "train_pred = []\n",
    "train_actual = []\n",
    "\n",
    "test_pred = []\n",
    "test_actual = []\n",
    "\n",
    "kf = GroupKFold(n_splits=5)\n",
    "for train_idx, test_idx in kf.split(X, y, group):\n",
    "   X_train, y_train = X[train_idx, :], y[train_idx]\n",
    "   X_test, y_test = X[test_idx, :], y[test_idx]\n",
    "   \n",
    "   # Decision tree classifier with higher penalty\n",
    "   # for misclassifying the low frequency output\n",
    "   # label\n",
    "   clf = DecisionTreeClassifier(class_weight=\"balanced\",\n",
    "                                max_depth=20,\n",
    "                                max_leaf_nodes=20)\n",
    "   model = clf.fit(X_train, y_train)\n",
    "\n",
    "   train_pred.extend(clf.predict(X_train))\n",
    "   train_actual.extend(y_train)\n",
    "\n",
    "   test_pred.extend(clf.predict(X_test))\n",
    "   test_actual.extend(y_test)"
   ]
  },
  {
   "cell_type": "code",
   "execution_count": null,
   "metadata": {
    "colab": {},
    "colab_type": "code",
    "id": "FhaWWJeIk_qF"
   },
   "outputs": [],
   "source": [
    "# Function for evaluating train and test accuracy\n",
    "def evaluate(actual, predicted, prefix=\"\"):\n",
    "    precision = precision_score(actual, predicted)\n",
    "    recall = recall_score(actual, predicted)\n",
    "    accuracy = accuracy_score(actual, predicted)\n",
    "\n",
    "    print(\"%s Precision: %.3f%%, Recall: %.3f%%, Accuracy: %.3f%%\" % (prefix, precision * 100, recall * 100, accuracy * 100))"
   ]
  },
  {
   "cell_type": "code",
   "execution_count": null,
   "metadata": {
    "colab": {
     "base_uri": "https://localhost:8080/",
     "height": 141
    },
    "colab_type": "code",
    "id": "FsYTTzuulIJo",
    "outputId": "e0f193a7-3309-4bef-89b2-00cad800f9e9"
   },
   "outputs": [],
   "source": [
    "# Evaluate train and test accuracy\n",
    "evaluate(train_actual, train_pred, \"Train\")\n",
    "evaluate(test_actual, test_pred, \"Test\")"
   ]
  }
 ],
 "metadata": {
  "accelerator": "GPU",
  "colab": {
   "collapsed_sections": [],
   "name": "sepsis.ipynb",
   "provenance": []
  },
  "kernelspec": {
   "display_name": "Python 3",
   "language": "python",
   "name": "python3"
  },
  "language_info": {
   "codemirror_mode": {
    "name": "ipython",
    "version": 3
   },
   "file_extension": ".py",
   "mimetype": "text/x-python",
   "name": "python",
   "nbconvert_exporter": "python",
   "pygments_lexer": "ipython3",
   "version": "3.7.4"
  }
 },
 "nbformat": 4,
 "nbformat_minor": 1
}
